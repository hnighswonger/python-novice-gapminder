{
 "cells": [
  {
   "cell_type": "code",
   "execution_count": 1,
   "metadata": {},
   "outputs": [
    {
     "name": "stdout",
     "output_type": "stream",
     "text": [
      "Writing ./code/test_sys.py\n"
     ]
    }
   ],
   "source": [
    "%%writefile ./code/test_sys.py\n",
    "import sys\n",
    "\n",
    "print('Print the first command line argument', sys.argv[0])\n",
    "\n",
    "for i in sys.argv:\n",
    "    print(i)"
   ]
  },
  {
   "cell_type": "code",
   "execution_count": 9,
   "metadata": {},
   "outputs": [
    {
     "name": "stdout",
     "output_type": "stream",
     "text": [
      "Overwriting ./code/my_reading.py\n"
     ]
    }
   ],
   "source": [
    "%%writefile ./code/my_reading.py\n",
    "import sys\n",
    "import numpy as np\n",
    "\n",
    "def compute_mean(data):\n",
    "    \n",
    "    mean = np.mean(data)\n",
    "    print('The computed mean is: ', mean)\n",
    "\n",
    "def compute_max(data):\n",
    "    pass\n",
    "\n",
    "def compute_min(data):\n",
    "    pass\n",
    "\n",
    "def load_data(filename):\n",
    "    data = np.loadtxt(fname=filename, delimiter=',')\n",
    "    assert isinstance(data, np.ndarray)\n",
    "    return data\n",
    "\n",
    "def main():\n",
    "    \n",
    "    action = sys.argv[1]\n",
    "    assert action in ['--mean','--min','--max'], 'Invalid action'\n",
    "    for filename in sys.argv[2:]:\n",
    "        assert isinstance(filename, str)\n",
    "        assert filename[-4:] == '.csv'\n",
    "    \n",
    "    for filename in sys.argv[2:]:\n",
    "        \n",
    "        data = load_data(filename)\n",
    "    \n",
    "        if action == '--mean':\n",
    "            result = compute_mean(data)\n",
    "        elif action == '--max':\n",
    "            result = compute_max(data)\n",
    "        elif action == '--min':\n",
    "            result = compute_min(data)\n",
    "\n",
    "if __name__ == '__main__':\n",
    "    main()"
   ]
  },
  {
   "cell_type": "code",
   "execution_count": null,
   "metadata": {},
   "outputs": [],
   "source": []
  }
 ],
 "metadata": {
  "kernelspec": {
   "display_name": "Python 3",
   "language": "python",
   "name": "python3"
  },
  "language_info": {
   "codemirror_mode": {
    "name": "ipython",
    "version": 3
   },
   "file_extension": ".py",
   "mimetype": "text/x-python",
   "name": "python",
   "nbconvert_exporter": "python",
   "pygments_lexer": "ipython3",
   "version": "3.7.4"
  }
 },
 "nbformat": 4,
 "nbformat_minor": 2
}
